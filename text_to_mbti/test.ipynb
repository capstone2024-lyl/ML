{
 "cells": [
  {
   "cell_type": "code",
   "execution_count": 5,
   "metadata": {},
   "outputs": [
    {
     "name": "stdout",
     "output_type": "stream",
     "text": [
      "Original Text:\n",
      "반갑습니다.\n",
      "저는\n",
      "이해강\n",
      "입니다\n",
      "\n",
      "\n",
      "Translated Text:\n",
      "Nice to meet you.\n",
      "I am\n",
      "Lee Hae-gang\n",
      "no see\n"
     ]
    }
   ],
   "source": [
    "from deep_translator import GoogleTranslator\n",
    "\n",
    "# 메모장 파일을 읽어오는 함수\n",
    "def read_notepad_file(file_path):\n",
    "    with open(file_path, 'r', encoding='utf-8') as file:\n",
    "        return file.read()\n",
    "\n",
    "# 번역 함수\n",
    "def translate_text(text, target_language='en'):\n",
    "    translator = GoogleTranslator(source='auto', target=target_language)\n",
    "    translated = translator.translate(text)\n",
    "    return translated\n",
    "\n",
    "# 메모장 파일 경로\n",
    "notepad_file_path = './abc.txt'\n",
    "\n",
    "# 메모장 파일 읽기\n",
    "original_text = read_notepad_file(notepad_file_path)\n",
    "print(f\"Original Text:\\n{original_text}\")\n",
    "\n",
    "# 번역 (예: 한국어 -> 영어)\n",
    "translated_text = translate_text(original_text, target_language='en')\n",
    "print(f\"\\nTranslated Text:\\n{translated_text}\")"
   ]
  }
 ],
 "metadata": {
  "kernelspec": {
   "display_name": "ml",
   "language": "python",
   "name": "python3"
  },
  "language_info": {
   "codemirror_mode": {
    "name": "ipython",
    "version": 3
   },
   "file_extension": ".py",
   "mimetype": "text/x-python",
   "name": "python",
   "nbconvert_exporter": "python",
   "pygments_lexer": "ipython3",
   "version": "3.10.14"
  }
 },
 "nbformat": 4,
 "nbformat_minor": 2
}
